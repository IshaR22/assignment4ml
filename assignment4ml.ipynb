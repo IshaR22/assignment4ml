{
 "cells": [
  {
   "cell_type": "code",
   "execution_count": null,
   "id": "cab378c5-a532-47c6-834e-2a1a2dab1f54",
   "metadata": {},
   "outputs": [],
   "source": [
    "Q1. What is data encoding? How is it useful in data science?"
   ]
  },
  {
   "cell_type": "markdown",
   "id": "0633ffef-cd5a-4e1d-a520-ea29109af2e9",
   "metadata": {},
   "source": [
    "In terms of data science, data encoding typically refers to the transformation of categorical data into a numerical \n",
    "format that can be readily understood and processed by machine learning algorithms.\n",
    "\n",
    "Improving Model Performance\n",
    "Preparing Data for Machine Learning\n",
    "Reducing Dimensionality:\n"
   ]
  },
  {
   "cell_type": "code",
   "execution_count": null,
   "id": "72539676-c74f-4a51-b345-d0435b1308ea",
   "metadata": {},
   "outputs": [],
   "source": [
    "Q2. What is nominal encoding? Provide an example of how you would use it in a real-world scenario."
   ]
  },
  {
   "cell_type": "code",
   "execution_count": null,
   "id": "1f250492-b3f0-466b-a940-53d457e2e1d2",
   "metadata": {},
   "outputs": [],
   "source": [
    "Nominal encoding is a technique used in the field of data science to convert nominal categorical variables into a \n",
    "numerical format without imposing any ordinal relationships among them. Nominal variables are categorical variables\n",
    "that represent categories with no inherent order or ranking \n",
    "example we are  developing a recommendation system for movies. we have a dataset that includes various attributes of\n",
    "movies, one of which is the genre. The genres of the movies are represented as a nominal categorical variable with the \n",
    "following categories:\n",
    "Action,Comedy,Drama,Sci-Fi,Romance"
   ]
  },
  {
   "cell_type": "code",
   "execution_count": 4,
   "id": "2e289752-163e-4c24-a3f1-e5980b161ea3",
   "metadata": {},
   "outputs": [
    {
     "name": "stdout",
     "output_type": "stream",
     "text": [
      "  Movie Title    Genre  Encoded Genre\n",
      "0     Movie A   Action              2\n",
      "1     Movie B   Comedy              1\n",
      "2     Movie C    Drama              2\n",
      "3     Movie D   Sci-Fi              3\n",
      "4     Movie E  Romance              4\n"
     ]
    }
   ],
   "source": [
    "import pandas as pd  \n",
    "\n",
    "data = {  \n",
    "    'Movie Title': ['Movie A', 'Movie B', 'Movie C', 'Movie D', 'Movie E'],  \n",
    "    'Genre': ['Action', 'Comedy', 'Drama', 'Sci-Fi', 'Romance']  \n",
    "}  \n",
    "df = pd.DataFrame(data)  \n",
    "genre_mapping = {  \n",
    "    'Action': 2,  \n",
    "    'Comedy': 1,  \n",
    "    'Drama': 2,  \n",
    "    'Sci-Fi': 3,  \n",
    "    'Romance': 4  \n",
    "}  \n",
    "df['Encoded Genre'] = df['Genre'].map(genre_mapping)  \n",
    "print(df)"
   ]
  },
  {
   "cell_type": "code",
   "execution_count": null,
   "id": "05310ac3-dd11-47be-827d-aa7f7ac4ae03",
   "metadata": {},
   "outputs": [],
   "source": [
    "Q3. In what situations is nominal encoding preferred over one-hot encoding? Provide a practical example."
   ]
  },
  {
   "cell_type": "code",
   "execution_count": null,
   "id": "3491212c-3e86-4002-9909-1ee2af8f12cd",
   "metadata": {},
   "outputs": [],
   "source": [
    "High Cardinality of Categories\n",
    "When the categorical variable has a large number of unique values, one-hot encoding can lead to a substantial increase\n",
    "in the dimensionality of the data, which can be impractical and computationally expensive. Nominal encoding can help\n",
    "to mitigate this issue.\n",
    "Detrimental Sparsity\n",
    "One-hot encoding can produce a sparse matrix when a categorical feature has many levels. This sparsity can be \n",
    "problematic for some machine learning algorithms, leading to inefficiencies and increased computational overhead.\n",
    "Avoiding Multicollinearity\n",
    "one-hot encoding can introduce multicollinearity (when two or more predictor variables are highly correlated), which\n",
    "can negatively affect the model’s performance. Nominal encoding helps to avoid this issue.\n",
    "Requirements of Specific Algorithms: Some machine learning algorithms, like decision trees and tree-based ensemble \n",
    "methods, can inherently handle categorical data and may perform better with nominal encoding.\n"
   ]
  },
  {
   "cell_type": "code",
   "execution_count": 3,
   "id": "78c822ba-02e2-4ade-8b46-617f5638474b",
   "metadata": {},
   "outputs": [
    {
     "name": "stdout",
     "output_type": "stream",
     "text": [
      "           city  city_encoded\n",
      "0      New York             3\n",
      "1   Los Angeles             2\n",
      "2       Chicago             0\n",
      "3       Houston             1\n",
      "4       Phoenix             5\n",
      "5  Philadelphia             4\n",
      "6     San Diego             6\n"
     ]
    }
   ],
   "source": [
    "import pandas as pd\n",
    "from sklearn.preprocessing import LabelEncoder\n",
    "data = {'city': ['New York', 'Los Angeles', 'Chicago', 'Houston', 'Phoenix', 'Philadelphia', 'San Diego']}\n",
    "df = pd.DataFrame(data)\n",
    "label_encoder = LabelEncoder()\n",
    "df['city_encoded'] = label_encoder.fit_transform(df['city'])\n",
    "print(df)"
   ]
  },
  {
   "cell_type": "code",
   "execution_count": null,
   "id": "b55ebf9e-120b-408d-b164-12d4a5bd6791",
   "metadata": {},
   "outputs": [],
   "source": [
    "Q4. Suppose you have a dataset containing categorical data with 5 unique values. Which encoding\n",
    "technique would you use to transform this data into a format suitable for machine learning algorithms?\n",
    "Explain why you made this choice."
   ]
  },
  {
   "cell_type": "code",
   "execution_count": 2,
   "id": "c497112b-d32d-4766-b15a-869de357662b",
   "metadata": {},
   "outputs": [
    {
     "name": "stdout",
     "output_type": "stream",
     "text": [
      "          city  city_encoded\n",
      "0     New York             3\n",
      "1  Los Angeles             2\n",
      "2      Chicago             0\n",
      "3      Houston             1\n",
      "4      Phoenix             4\n"
     ]
    }
   ],
   "source": [
    "import pandas as pd\n",
    "from sklearn.preprocessing import LabelEncoder\n",
    "data = {'city': ['New York', 'Los Angeles', 'Chicago', 'Houston', 'Phoenix']}\n",
    "df = pd.DataFrame(data)\n",
    "label_encoder = LabelEncoder()\n",
    "# Apply nominal encoding\n",
    "df['city_encoded'] = label_encoder.fit_transform(df['city'])\n",
    "print(df)\n"
   ]
  },
  {
   "cell_type": "code",
   "execution_count": null,
   "id": "e6808624-3511-49f6-b8a6-1a36c1cd3571",
   "metadata": {},
   "outputs": [],
   "source": [
    "Consider a dataset having 5 categories. Decision trees inherently handle categorical variables effectively, so nominal\n",
    "encoding could be quite suitable."
   ]
  },
  {
   "cell_type": "code",
   "execution_count": null,
   "id": "2e79aaa9-cab7-4164-8403-b489219537f9",
   "metadata": {},
   "outputs": [],
   "source": [
    "Q5. In a machine learning project, you have a dataset with 1000 rows and 5 columns. Two of the columns\n",
    "are categorical, and the remaining three columns are numerical. If you were to use nominal encoding to\n",
    "transform the categorical data, how many new columns would be created? Show your calculations."
   ]
  },
  {
   "cell_type": "code",
   "execution_count": null,
   "id": "8b0c3771-7e4b-42c2-b222-01653e71c14a",
   "metadata": {},
   "outputs": [],
   "source": [
    "n1=unique category in 1st category column\n",
    "n2=unique category in 2nd category column\n",
    "new column\n",
    "nc1=n1-1\n",
    "nc2=n2-1\n",
    "total colum=nc1+nc2 =n1+n2-2"
   ]
  },
  {
   "cell_type": "code",
   "execution_count": null,
   "id": "5f46d713-7389-4d89-b951-1129c8a78387",
   "metadata": {},
   "outputs": [],
   "source": [
    "Q6. You are working with a dataset containing information about different types of animals, including their\n",
    "species, habitat, and diet. Which encoding technique would you use to transform the categorical data into\n",
    "a format suitable for machine learning algorithms? Justify your answer."
   ]
  },
  {
   "cell_type": "code",
   "execution_count": null,
   "id": "898756bc-0762-403c-ab8a-c3995275ea13",
   "metadata": {},
   "outputs": [],
   "source": [
    "species , habitat and diet are nominal data \n",
    "Since all these categorical variables are nominal, one-hot encoding is an appropriate technique. It creates binary \n",
    "(0 or 1) columns for each category in the original column, allowing the model to interpret each category as distinct\n",
    "without imparting any ordering or ranking."
   ]
  },
  {
   "cell_type": "code",
   "execution_count": null,
   "id": "86196e25-ef9c-4ae9-a4b8-4e1ccd443a18",
   "metadata": {},
   "outputs": [],
   "source": [
    "Q7.You are working on a project that involves predicting customer churn for a telecommunications\n",
    "company. You have a dataset with 5 features, including the customer's gender, age, contract type,\n",
    "monthly charges, and tenure. Which encoding technique(s) would you use to transform the categorical\n",
    "data into numerical data? Provide a step-by-step explanation of how you would implement the encoding."
   ]
  },
  {
   "cell_type": "code",
   "execution_count": null,
   "id": "cc60b607-a3f8-47eb-b230-8c0c1e177a93",
   "metadata": {},
   "outputs": [],
   "source": [
    "Step 1: Identify Categorical Features\n",
    "GENDER: M OR F\n",
    "CONTRACT TYPE : ONE YEAR, 2 YEAR ,MONTHLY\n",
    "\n",
    "Step 2: Choose Encoding Techniques\n",
    "since both the categorical feature are nominal we choose one hot encloding\n",
    "\n",
    "Step 3: Implement One-Hot Encoding\n",
    "import pandas\n",
    "create and load dataset\n",
    "apply one hot encoding\n",
    "display the result"
   ]
  }
 ],
 "metadata": {
  "kernelspec": {
   "display_name": "Python 3 (ipykernel)",
   "language": "python",
   "name": "python3"
  },
  "language_info": {
   "codemirror_mode": {
    "name": "ipython",
    "version": 3
   },
   "file_extension": ".py",
   "mimetype": "text/x-python",
   "name": "python",
   "nbconvert_exporter": "python",
   "pygments_lexer": "ipython3",
   "version": "3.10.8"
  }
 },
 "nbformat": 4,
 "nbformat_minor": 5
}
